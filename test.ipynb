{
 "cells": [
  {
   "cell_type": "code",
   "execution_count": null,
   "metadata": {},
   "outputs": [],
   "source": [
    "# guestlist (\n",
    "#     id INTEGER PRIMARY KEY,\n",
    "#     title TEXT NOT NULL,\n",
    "#     name TEXT NOT NULL,\n",
    "#     category TEXT NOT NULL,\n",
    "#     party_size INTEGER DEFAULT \"1\" NOT NULL,\n",
    "#     over_21 INTEGER DEFAULT \"0\" NOT NULL,\n",
    "#     rsvp INTEGER DEFAULT \"0\" NOT NULL,\n",
    "#     responded_rsvp TEXT DEFAULT \"NO\" NOT NULL,\n",
    "#     email TEXT,\n",
    "#     phone_number TEXT,\n",
    "#     events_invited TEXT DEFAULT \"\",\n",
    "#     Haldi TEXT DEFAULT \"\",\n",
    "#     Mendhi TEXT DEFAULT \"\",\n",
    "#     Wedding TEXT DEFAULT \"\",\n",
    "#     Reception TEXT DEFAULT \"\",\n",
    "#     guest_names TEXT DEFAULT \"\"\n",
    "# )"
   ]
  },
  {
   "cell_type": "code",
   "execution_count": 7,
   "metadata": {},
   "outputs": [
    {
     "name": "stdout",
     "output_type": "stream",
     "text": [
      "abs cat dog\n"
     ]
    }
   ],
   "source": [
    "test = [\"abs\", \"cat\", \"dog\"]\n",
    "\n",
    "print(\" \".join(test))"
   ]
  },
  {
   "cell_type": "code",
   "execution_count": 19,
   "metadata": {},
   "outputs": [
    {
     "name": "stdout",
     "output_type": "stream",
     "text": [
      "3\n"
     ]
    }
   ],
   "source": [
    "test = {'current' : [{'id' : 3}]}\n",
    "print(test['current'][0]['id'])\n"
   ]
  }
 ],
 "metadata": {
  "kernelspec": {
   "display_name": "Python 3",
   "language": "python",
   "name": "python3"
  },
  "language_info": {
   "codemirror_mode": {
    "name": "ipython",
    "version": 3
   },
   "file_extension": ".py",
   "mimetype": "text/x-python",
   "name": "python",
   "nbconvert_exporter": "python",
   "pygments_lexer": "ipython3",
   "version": "3.10.4"
  },
  "orig_nbformat": 4,
  "vscode": {
   "interpreter": {
    "hash": "949777d72b0d2535278d3dc13498b2535136f6dfe0678499012e853ee9abcab1"
   }
  }
 },
 "nbformat": 4,
 "nbformat_minor": 2
}
