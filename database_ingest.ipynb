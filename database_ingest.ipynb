{
 "cells": [
  {
   "cell_type": "code",
   "execution_count": 4,
   "metadata": {},
   "outputs": [
    {
     "name": "stdout",
     "output_type": "stream",
     "text": [
      "[]\n"
     ]
    }
   ],
   "source": [
    "from cs50 import SQL\n",
    "db = SQL(\"sqlite:///wedding.db\")\n",
    "\n",
    "name = 'Test Last'\n",
    "\n",
    "# Update how to search for guest\n",
    "res = db.execute(\"SELECT id FROM guestlist WHERE name= :name OR guest_names LIKE :search_text\", name=name, search_text=f\"%{name}%\")\n",
    "print(res)"
   ]
  },
  {
   "cell_type": "code",
   "execution_count": 6,
   "metadata": {},
   "outputs": [
    {
     "name": "stderr",
     "output_type": "stream",
     "text": [
      "/var/folders/4h/3wzx7lrn64q81rg3rfr17qtm0000gn/T/ipykernel_43380/3765100255.py:1: DeprecationWarning: \n",
      "Pyarrow will become a required dependency of pandas in the next major release of pandas (pandas 3.0),\n",
      "(to allow more performant data types, such as the Arrow string type, and better interoperability with other libraries)\n",
      "but was not found to be installed on your system.\n",
      "If this would cause problems for you,\n",
      "please provide us feedback at https://github.com/pandas-dev/pandas/issues/54466\n",
      "        \n",
      "  import pandas as pd\n"
     ]
    }
   ],
   "source": [
    "import pandas as pd\n",
    "\n",
    "file = \"Aman_Wedding_Database.xlsx\"\n",
    "df = pd.read_excel(file)\n",
    "\n",
    "def get_invites_list(events):\n",
    "    event_list = []\n",
    "    if \"H\" in events:\n",
    "        event_list.append(\"Shreya_Haldi\")\n",
    "    if \"G\" in events:\n",
    "        event_list.append(\"Aman_Haldi\")\n",
    "    if \"S\" in events:\n",
    "        event_list.append(\"Sangeet\")\n",
    "    if \"W\" in events:\n",
    "        event_list.append(\"Wedding\")\n",
    "    if \"R\" in events:\n",
    "        event_list.append(\"Reception\")\n",
    "    return ' '.join(event_list)\n",
    "\n",
    "for idx, x in df.iterrows():\n",
    "    title = x['Title'].strip()\n",
    "    name = x['First Name'].strip() + \" \" + x[' Last Name'].strip()\n",
    "    email = \"\"\n",
    "    phone = \"\"\n",
    "    over_21 = x['Number of Invitees']\n",
    "    category = x['Category'].strip()\n",
    "    party_size = x['Number of Invitees']\n",
    "    events_invited = get_invites_list(x['Events'])\n",
    "    if type(x['Title2']) is str: guest_names = x['First Name2'].strip() + \" \" + x['Last Name2'].strip()\n",
    "    else: guest_names = \"\"\n",
    "    db.execute(\"INSERT INTO guestlist (title, name, category, party_size, events_invited, guest_names, email, over_21, phone_number) VALUES (?, ?, ?, ?, ?, ?, ?, ?, ?)\", title, name, category, party_size, events_invited, guest_names, email, over_21, phone)\n",
    "    # print(x)\n",
    "    "
   ]
  },
  {
   "cell_type": "code",
   "execution_count": 5,
   "metadata": {},
   "outputs": [],
   "source": [
    "for x in range(218):\n",
    "    db.execute(\"DELETE FROM guestlist WHERE id = ?\", x)"
   ]
  },
  {
   "cell_type": "code",
   "execution_count": 8,
   "metadata": {},
   "outputs": [
    {
     "data": {
      "text/plain": [
       "{'id': 24,\n",
       " 'title': 'Mr.',\n",
       " 'name': 'Aaron Hogan',\n",
       " 'category': 'Friends',\n",
       " 'party_size': 1,\n",
       " 'over_21': 1,\n",
       " 'responded_rsvp': 'No',\n",
       " 'email': '',\n",
       " 'phone_number': '',\n",
       " 'events_invited': 'Aman_Haldi Sangeet Wedding Reception',\n",
       " 'Shreya_Haldi': '',\n",
       " 'Shreya_Haldi_Number': 0,\n",
       " 'Aman_Haldi': '',\n",
       " 'Aman_Haldi_Number': 0,\n",
       " 'Sangeet': '',\n",
       " 'Sangeet_Number': 0,\n",
       " 'Wedding': '',\n",
       " 'Wedding_Number': 0,\n",
       " 'Reception': '',\n",
       " 'Reception_Number': 0,\n",
       " 'guest_names': ''}"
      ]
     },
     "execution_count": 8,
     "metadata": {},
     "output_type": "execute_result"
    }
   ],
   "source": [
    "db.execute(\"SELECT * FROM guestlist WHERE id = 24\")[0]"
   ]
  }
 ],
 "metadata": {
  "kernelspec": {
   "display_name": "Python 3",
   "language": "python",
   "name": "python3"
  },
  "language_info": {
   "codemirror_mode": {
    "name": "ipython",
    "version": 3
   },
   "file_extension": ".py",
   "mimetype": "text/x-python",
   "name": "python",
   "nbconvert_exporter": "python",
   "pygments_lexer": "ipython3",
   "version": "3.10.4"
  }
 },
 "nbformat": 4,
 "nbformat_minor": 2
}
