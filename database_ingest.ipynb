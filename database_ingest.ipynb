{
 "cells": [
  {
   "cell_type": "code",
   "execution_count": 2,
   "metadata": {},
   "outputs": [
    {
     "name": "stdout",
     "output_type": "stream",
     "text": [
      "[]\n"
     ]
    }
   ],
   "source": [
    "from cs50 import SQL\n",
    "db = SQL(\"sqlite:///wedding.db\")\n",
    "\n",
    "name = 'Test Last'\n",
    "\n",
    "# Update how to search for guest\n",
    "res = db.execute(\"SELECT id FROM guestlist WHERE name= :name OR guest_names LIKE :search_text\", name=name, search_text=f\"%{name}%\")\n",
    "print(res)"
   ]
  },
  {
   "cell_type": "code",
   "execution_count": 12,
   "metadata": {},
   "outputs": [],
   "source": [
    "import pandas as pd\n",
    "\n",
    "file = \"Aman_Wedding_Database.xlsx\"\n",
    "df = pd.read_excel(file)\n",
    "\n",
    "def get_invites_list(events):\n",
    "    event_list = []\n",
    "    if \"H\" in events:\n",
    "        event_list.append(\"Shreya_Haldi\")\n",
    "    if \"G\" in events:\n",
    "        event_list.append(\"Aman_Haldi\")\n",
    "    if \"S\" in events:\n",
    "        event_list.append(\"Sangeet\")\n",
    "    if \"W\" in events:\n",
    "        event_list.append(\"Wedding\")\n",
    "    if \"R\" in events:\n",
    "        event_list.append(\"Reception\")\n",
    "    return ' '.join(event_list)\n",
    "\n",
    "for idx, x in df.iterrows():\n",
    "    title = x['Title'].strip()\n",
    "    name = x['First Name'].strip() + \" \" + x[' Last Name'].strip()\n",
    "    email = \"\"\n",
    "    phone = \"\"\n",
    "    over_21 = x['Number of Invitees']\n",
    "    category = x['Category'].strip()\n",
    "    party_size = x['Number of Invitees']\n",
    "    events_invited = get_invites_list(x['Events'])\n",
    "    if type(x['Title2']) is str: guest_names = x['First Name2'].strip() + \" \" + x['Last Name2'].strip()\n",
    "    else: guest_names = \"\"\n",
    "    db.execute(\"INSERT INTO guestlist (title, name, category, party_size, events_invited, guest_names, email, over_21, phone_number) VALUES (?, ?, ?, ?, ?, ?, ?, ?, ?)\", title, name, category, party_size, events_invited, guest_names, email, over_21, phone)\n",
    "    # print(x)\n",
    "    "
   ]
  },
  {
   "cell_type": "code",
   "execution_count": 11,
   "metadata": {},
   "outputs": [],
   "source": [
    "for x in range(224):\n",
    "    db.execute(\"DELETE FROM guestlist WHERE id = ?\", x)"
   ]
  },
  {
   "cell_type": "code",
   "execution_count": 3,
   "metadata": {},
   "outputs": [
    {
     "data": {
      "text/plain": [
       "{'id': 24,\n",
       " 'title': 'Dr.',\n",
       " 'name': 'Sukhdev Brar',\n",
       " 'category': 'Friends',\n",
       " 'party_size': 2,\n",
       " 'over_21': 2,\n",
       " 'responded_rsvp': 'Yes',\n",
       " 'email': 'VYAS95.AMAN@GMAIL.COM',\n",
       " 'phone_number': '',\n",
       " 'events_invited': 'Aman_Haldi Sangeet Wedding Reception',\n",
       " 'Shreya_Haldi': '',\n",
       " 'Shreya_Haldi_Number': 0,\n",
       " 'Aman_Haldi': 'Sukhdev Brar, Simran Kaur',\n",
       " 'Aman_Haldi_Number': 2,\n",
       " 'Sangeet': 'Sukhdev Brar, Simran Kaur',\n",
       " 'Sangeet_Number': 2,\n",
       " 'Wedding': 'Sukhdev Brar, Simran Kaur',\n",
       " 'Wedding_Number': 2,\n",
       " 'Reception': 'Sukhdev Brar, Simran Kaur',\n",
       " 'Reception_Number': 2,\n",
       " 'guest_names': 'Simran Kaur'}"
      ]
     },
     "execution_count": 3,
     "metadata": {},
     "output_type": "execute_result"
    }
   ],
   "source": [
    "db.execute(\"SELECT * FROM guestlist WHERE id = 24\")[0]"
   ]
  },
  {
   "cell_type": "code",
   "execution_count": 3,
   "metadata": {},
   "outputs": [],
   "source": [
    "# Find where events did not populate\n",
    "\n",
    "data = db.execute(\"SELECT * FROM guestlist\")\n",
    "\n",
    "for row in data:\n",
    "    if row['events_invited'][0] == \" \":\n",
    "        print(row['name'], row['id'], row['events_invited'])\n",
    "        id = row['id']\n",
    "        db.execute(f\"UPDATE guestlist SET events_invited = 'Shreya_Haldi Sangeet Wedding Reception' WHERE id = {id}\")"
   ]
  }
 ],
 "metadata": {
  "kernelspec": {
   "display_name": "Python 3",
   "language": "python",
   "name": "python3"
  },
  "language_info": {
   "codemirror_mode": {
    "name": "ipython",
    "version": 3
   },
   "file_extension": ".py",
   "mimetype": "text/x-python",
   "name": "python",
   "nbconvert_exporter": "python",
   "pygments_lexer": "ipython3",
   "version": "3.10.4"
  }
 },
 "nbformat": 4,
 "nbformat_minor": 2
}
