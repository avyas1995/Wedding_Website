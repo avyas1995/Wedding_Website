{
 "cells": [
  {
   "cell_type": "code",
   "execution_count": 70,
   "metadata": {},
   "outputs": [
    {
     "name": "stdout",
     "output_type": "stream",
     "text": [
      "[{'id': 3}, {'id': 4}, {'id': 5}]\n"
     ]
    }
   ],
   "source": [
    "from cs50 import SQL\n",
    "db = SQL(\"sqlite:///wedding.db\")\n",
    "\n",
    "name = 'Test Last'\n",
    "\n",
    "# Update how to search for guest\n",
    "res = db.execute(\"SELECT id FROM guestlist WHERE name= :name OR guest_names LIKE :search_text\", name=name, search_text=f\"%{name}%\")\n",
    "print(res)"
   ]
  },
  {
   "cell_type": "code",
   "execution_count": 92,
   "metadata": {},
   "outputs": [],
   "source": [
    "import pandas as pd\n",
    "import pprint\n",
    "\n",
    "file = \"Aman_Wedding_Database.xlsx\"\n",
    "df = pd.read_excel(file)\n",
    "\n",
    "# def create_entry(item, id):\n",
    "#     # id\ttitle\tname\tcategory\tparty_size\tover_21\tresponded_rsvp\temail\tphone_number\tevents_invited\tShreya_Haldi\tShreya_Haldi_Number\tAman_Haldi\tAman_Haldi_Number\tSangeet\tSangeet_Number\tWedding\tWedding_Number\tReception\tReception_Number\tguest_names;\n",
    "#     if item:\n",
    "#         db.execute(\"INSERT INTO guestlist () VALUES ()\")\n",
    "\n",
    "def get_invites_list(events):\n",
    "    event_list = []\n",
    "    if \"H\" in events:\n",
    "        event_list.append(\"Shreya_Haldi\")\n",
    "    if \"G\" in events:\n",
    "        event_list.append(\"Aman_Haldi\")\n",
    "    if \"S\" in events:\n",
    "        event_list.append(\"Sangeet\")\n",
    "    if \"W\" in events:\n",
    "        event_list.append(\"Wedding\")\n",
    "    if \"R\" in events:\n",
    "        event_list.append(\"Reception\")\n",
    "    return ' '.join(event_list)\n",
    "\n",
    "for idx, x in df[:20].iterrows():\n",
    "    title = x['Title']\n",
    "    name = x['First Name'] + \" \" + x[' Last Name']\n",
    "    # print(x['First Name'], x[' Last Name'])\n",
    "    email = \"\"\n",
    "    phone = \"\"\n",
    "    over_21 = x['Number of Invitees']\n",
    "    category = x['Category']\n",
    "    party_size = x['Number of Invitees']\n",
    "    events_invited = get_invites_list(x['Events']) # Create func\n",
    "    if type(x['Title2']) is str: guest_names = x['First Name2'] + \" \" + x['Last Name2']\n",
    "    else: guest_names = \"\"\n",
    "    db.execute(\"INSERT INTO guestlist (title, name, category, party_size, events_invited, guest_names, email, over_21, phone_number) VALUES (?, ?, ?, ?, ?, ?, ?, ?, ?)\", title, name, category, party_size, events_invited, guest_names, email, over_21, phone)\n",
    "    # print(x)\n",
    "    "
   ]
  },
  {
   "cell_type": "code",
   "execution_count": 91,
   "metadata": {},
   "outputs": [],
   "source": [
    "for x in range(6, 26):\n",
    "    db.execute(\"DELETE FROM guestlist WHERE id\", x)"
   ]
  },
  {
   "cell_type": "code",
   "execution_count": null,
   "metadata": {},
   "outputs": [],
   "source": []
  }
 ],
 "metadata": {
  "kernelspec": {
   "display_name": "Python 3",
   "language": "python",
   "name": "python3"
  },
  "language_info": {
   "codemirror_mode": {
    "name": "ipython",
    "version": 3
   },
   "file_extension": ".py",
   "mimetype": "text/x-python",
   "name": "python",
   "nbconvert_exporter": "python",
   "pygments_lexer": "ipython3",
   "version": "3.10.4"
  }
 },
 "nbformat": 4,
 "nbformat_minor": 2
}
